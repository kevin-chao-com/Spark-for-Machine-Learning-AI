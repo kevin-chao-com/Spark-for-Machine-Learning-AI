{
 "cells": [
  {
   "cell_type": "markdown",
   "id": "0f471019-1ab3-496f-9221-2f6a0f34e813",
   "metadata": {},
   "source": [
    "* Numeric: Standardize\n",
    "    * Map data values from their original range to -1 to 1\n",
    "    * Mean value of 0\n",
    "    * Normally distributed with standard deviation of 1\n",
    "    * Used when attributes have different scales and ML algorithms assueme a normal distribution"
   ]
  },
  {
   "cell_type": "code",
   "execution_count": 2,
   "id": "dbd8dd79-c126-457c-86cd-1510db6b4ed3",
   "metadata": {},
   "outputs": [],
   "source": [
    "import findspark\n",
    "findspark.init()\n",
    "\n",
    "from pyspark.sql import SparkSession\n",
    "spark = SparkSession.builder.appName(\"YourAppName\").getOrCreate()\n",
    "\n",
    "from pyspark.ml.feature import MinMaxScaler\n",
    "from pyspark.ml.linalg import Vectors"
   ]
  },
  {
   "cell_type": "code",
   "execution_count": null,
   "id": "8f080416-a16e-45bf-9202-707b5be8b04f",
   "metadata": {},
   "outputs": [],
   "source": []
  }
 ],
 "metadata": {
  "kernelspec": {
   "display_name": "Python 3 (ipykernel)",
   "language": "python",
   "name": "python3"
  },
  "language_info": {
   "codemirror_mode": {
    "name": "ipython",
    "version": 3
   },
   "file_extension": ".py",
   "mimetype": "text/x-python",
   "name": "python",
   "nbconvert_exporter": "python",
   "pygments_lexer": "ipython3",
   "version": "3.10.13"
  }
 },
 "nbformat": 4,
 "nbformat_minor": 5
}
