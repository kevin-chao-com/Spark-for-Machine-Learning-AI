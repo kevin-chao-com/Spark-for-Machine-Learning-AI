{
 "cells": [
  {
   "cell_type": "code",
   "execution_count": 2,
   "id": "4f8c18b8-a553-44b4-9824-3f1cb7401490",
   "metadata": {},
   "outputs": [],
   "source": [
    "import findspark\n",
    "findspark.init()\n",
    "\n",
    "from pyspark.sql import SparkSession\n",
    "spark = SparkSession.builder.appName(\"YourAppName\").getOrCreate()\n",
    "\n",
    "import pandas as pd\n",
    "\n",
    "from pyspark.ml.regression import GBTRegressor\n",
    "from pyspark.ml.evaluation import RegressionEvaluator\n",
    "from pyspark.ml.feature import VectorAssembler"
   ]
  },
  {
   "cell_type": "code",
   "execution_count": 3,
   "id": "298c5377-e415-4f2f-8360-c820a5ce20d3",
   "metadata": {},
   "outputs": [],
   "source": [
    "df = pd.read_excel('Exercise_Files/CCPP/Folds5x2_pp.xlsx', sheet_name='Sheet1')\n",
    "pp_df = spark.createDataFrame(df)\n",
    "\n",
    "vectorAssembler = VectorAssembler(inputCols=[\"AT\", \"V\", \"AP\", \"RH\"], outputCol=\"features\")\n",
    "vpp_df = vectorAssembler.transform(pp_df)\n",
    "\n",
    "splits = vpp_df.randomSplit([0.7, 0.3])\n",
    "train_df = splits[0]\n",
    "test_df = splits[1]"
   ]
  },
  {
   "cell_type": "code",
   "execution_count": 4,
   "id": "729c4225-841f-4cd4-a70a-bad6a4022c9e",
   "metadata": {},
   "outputs": [],
   "source": [
    "gbt = GBTRegressor(featuresCol=\"features\", labelCol=\"PE\")"
   ]
  },
  {
   "cell_type": "code",
   "execution_count": 5,
   "id": "3b9e1554-d6ba-4bef-a2c9-4d0abcc8131c",
   "metadata": {},
   "outputs": [
    {
     "name": "stderr",
     "output_type": "stream",
     "text": [
      "                                                                                \r"
     ]
    }
   ],
   "source": [
    "gbt_model = gbt.fit(train_df)"
   ]
  },
  {
   "cell_type": "code",
   "execution_count": 6,
   "id": "bf4cf2ec-3bc9-41d6-bef3-bf8e0c63f0f5",
   "metadata": {},
   "outputs": [],
   "source": [
    "gbt_predictions = gbt_model.transform(test_df)"
   ]
  },
  {
   "cell_type": "code",
   "execution_count": 7,
   "id": "0d9bb5f9-ea2a-4032-8454-bfabc526d9a5",
   "metadata": {},
   "outputs": [],
   "source": [
    "gbt_evaluator = RegressionEvaluator(labelCol=\"PE\", predictionCol=\"prediction\", metricName=\"rmse\")"
   ]
  },
  {
   "cell_type": "code",
   "execution_count": 8,
   "id": "527350a6-7ecf-49df-b00f-0c30c521cc3f",
   "metadata": {},
   "outputs": [
    {
     "name": "stderr",
     "output_type": "stream",
     "text": [
      "24/02/12 14:30:44 WARN InstanceBuilder: Failed to load implementation from:dev.ludovic.netlib.blas.JNIBLAS\n",
      "24/02/12 14:30:44 WARN InstanceBuilder: Failed to load implementation from:dev.ludovic.netlib.blas.VectorBLAS\n",
      "                                                                                \r"
     ]
    }
   ],
   "source": [
    "gbt_rmse = gbt_evaluator.evaluate(gbt_predictions)"
   ]
  },
  {
   "cell_type": "code",
   "execution_count": 9,
   "id": "ddbbf03a-0199-4c64-828e-805de4789c8e",
   "metadata": {},
   "outputs": [
    {
     "data": {
      "text/plain": [
       "3.8901521813742357"
      ]
     },
     "execution_count": 9,
     "metadata": {},
     "output_type": "execute_result"
    }
   ],
   "source": [
    "gbt_rmse"
   ]
  }
 ],
 "metadata": {
  "kernelspec": {
   "display_name": "Python 3 (ipykernel)",
   "language": "python",
   "name": "python3"
  },
  "language_info": {
   "codemirror_mode": {
    "name": "ipython",
    "version": 3
   },
   "file_extension": ".py",
   "mimetype": "text/x-python",
   "name": "python",
   "nbconvert_exporter": "python",
   "pygments_lexer": "ipython3",
   "version": "3.10.13"
  }
 },
 "nbformat": 4,
 "nbformat_minor": 5
}
