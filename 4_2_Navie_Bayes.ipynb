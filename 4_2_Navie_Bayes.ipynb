{
 "cells": [
  {
   "cell_type": "markdown",
   "id": "d21bc040-a246-437d-88cc-63333e3f0321",
   "metadata": {},
   "source": [
    "**Lesson exercise notebook for Spark-for-Machine-Learning-AI Course**\n",
    "* Created by Kevin Chao (kevinchao@gmail.com)\n",
    "* Latest updated on Feb 14, 2024"
   ]
  },
  {
   "cell_type": "code",
   "execution_count": 6,
   "id": "01b1ef66-7576-4c35-b44c-242df1ec6d15",
   "metadata": {},
   "outputs": [],
   "source": [
    "import findspark\n",
    "findspark.init()\n",
    "\n",
    "from pyspark.sql import SparkSession\n",
    "spark = SparkSession.builder.appName(\"YourAppName\").getOrCreate()\n",
    "\n",
    "from pyspark.ml.classification import NaiveBayes\n",
    "from pyspark.ml.evaluation import MulticlassClassificationEvaluator"
   ]
  },
  {
   "cell_type": "code",
   "execution_count": 35,
   "id": "a8697c86-5832-4714-a525-a2b817fce482",
   "metadata": {},
   "outputs": [],
   "source": [
    "# Re-create iviris_df\n",
    "from pyspark.sql.functions import *\n",
    "from pyspark.ml.feature import VectorAssembler\n",
    "from pyspark.ml.feature import StringIndexer\n",
    "\n",
    "iris_df =spark.read.csv(\"Exercise_Files/iris.txt\", inferSchema=True)\n",
    "\n",
    "iris_df = iris_df.select(\n",
    "    col(\"_c0\").alias(\"sepal_length\"),\n",
    "    col(\"_c1\").alias(\"sepal_width\"),\n",
    "    col(\"_c2\").alias(\"petal_length\"),\n",
    "    col(\"_c3\").alias(\"petal_width\"),\n",
    "    col(\"_c4\").alias(\"species\")\n",
    "    )\n",
    "\n",
    "vectorAssembler = VectorAssembler(inputCols=[\"sepal_length\", \"sepal_width\", \"petal_length\", \"petal_width\"], outputCol=\"features\")\n",
    "viris_df = vectorAssembler.transform(iris_df)\n",
    "indexer = StringIndexer(inputCol=\"species\", outputCol=\"label\")\n",
    "iviris_df = indexer.fit(viris_df).transform(viris_df)"
   ]
  },
  {
   "cell_type": "code",
   "execution_count": 36,
   "id": "f21f81b8-b0df-4066-942f-43c1011ad9df",
   "metadata": {},
   "outputs": [
    {
     "data": {
      "text/plain": [
       "[Row(sepal_length=5.1, sepal_width=3.5, petal_length=1.4, petal_width=0.2, species='Iris-setosa', features=DenseVector([5.1, 3.5, 1.4, 0.2]), label=0.0)]"
      ]
     },
     "execution_count": 36,
     "metadata": {},
     "output_type": "execute_result"
    }
   ],
   "source": [
    "iviris_df.take(1)"
   ]
  },
  {
   "cell_type": "code",
   "execution_count": 37,
   "id": "5ba3d258-21ea-4ad9-b348-13defd756378",
   "metadata": {},
   "outputs": [
    {
     "name": "stdout",
     "output_type": "stream",
     "text": [
      "+------------+-----------+------------+-----------+-----------+-----------------+-----+\n",
      "|sepal_length|sepal_width|petal_length|petal_width|    species|         features|label|\n",
      "+------------+-----------+------------+-----------+-----------+-----------------+-----+\n",
      "|         5.1|        3.5|         1.4|        0.2|Iris-setosa|[5.1,3.5,1.4,0.2]|  0.0|\n",
      "+------------+-----------+------------+-----------+-----------+-----------------+-----+\n",
      "only showing top 1 row\n",
      "\n"
     ]
    }
   ],
   "source": [
    "iviris_df.show(1)"
   ]
  },
  {
   "cell_type": "code",
   "execution_count": 38,
   "id": "c55a1394-cadb-42bf-b4e9-f7a46887f582",
   "metadata": {},
   "outputs": [],
   "source": [
    "# Split the data\n",
    "splits = iviris_df.randomSplit([0.6, 0.4], 1)  # Split to two groups: 60% and 40%; seed = 1"
   ]
  },
  {
   "cell_type": "code",
   "execution_count": 39,
   "id": "ee8c7948-c27f-4326-a23e-9e558b19fb48",
   "metadata": {},
   "outputs": [],
   "source": [
    "train_df = splits[0]\n",
    "test_df = splits[1]"
   ]
  },
  {
   "cell_type": "code",
   "execution_count": 40,
   "id": "2e41139d-df5b-4ea0-9ab0-4ab028081c6e",
   "metadata": {},
   "outputs": [
    {
     "data": {
      "text/plain": [
       "98"
      ]
     },
     "execution_count": 40,
     "metadata": {},
     "output_type": "execute_result"
    }
   ],
   "source": [
    "train_df.count()"
   ]
  },
  {
   "cell_type": "code",
   "execution_count": 41,
   "id": "72098cbd-d16b-4117-adf0-499a3bddc818",
   "metadata": {},
   "outputs": [
    {
     "data": {
      "text/plain": [
       "52"
      ]
     },
     "execution_count": 41,
     "metadata": {},
     "output_type": "execute_result"
    }
   ],
   "source": [
    "test_df.count()"
   ]
  },
  {
   "cell_type": "code",
   "execution_count": 42,
   "id": "bf143772-1138-4cd1-8de9-969ad9517ff4",
   "metadata": {},
   "outputs": [
    {
     "data": {
      "text/plain": [
       "150"
      ]
     },
     "execution_count": 42,
     "metadata": {},
     "output_type": "execute_result"
    }
   ],
   "source": [
    "iviris_df.count()"
   ]
  },
  {
   "cell_type": "code",
   "execution_count": 43,
   "id": "c1561249-0623-4b7e-9733-63f424a76395",
   "metadata": {},
   "outputs": [],
   "source": [
    "nb = NaiveBayes(modelType=\"multinomial\")"
   ]
  },
  {
   "cell_type": "code",
   "execution_count": 44,
   "id": "36bc7adf-f629-4823-be1d-a60de9f6b23b",
   "metadata": {},
   "outputs": [],
   "source": [
    "nbmodel = nb.fit(train_df)"
   ]
  },
  {
   "cell_type": "code",
   "execution_count": 45,
   "id": "6f4f0d0f-e53f-4cd1-8e8e-ec597b8e7e60",
   "metadata": {},
   "outputs": [],
   "source": [
    "predictions_df = nbmodel.transform(test_df)"
   ]
  },
  {
   "cell_type": "code",
   "execution_count": 47,
   "id": "1d513b83-427a-4711-aae8-03de59a83bea",
   "metadata": {},
   "outputs": [
    {
     "data": {
      "text/plain": [
       "[Row(sepal_length=4.3, sepal_width=3.0, petal_length=1.1, petal_width=0.1, species='Iris-setosa', features=DenseVector([4.3, 3.0, 1.1, 0.1]), label=0.0, rawPrediction=DenseVector([-9.9894, -11.3476, -11.902]), probability=DenseVector([0.7118, 0.183, 0.1051]), prediction=0.0)]"
      ]
     },
     "execution_count": 47,
     "metadata": {},
     "output_type": "execute_result"
    }
   ],
   "source": [
    "predictions_df.take(1)"
   ]
  },
  {
   "cell_type": "code",
   "execution_count": 48,
   "id": "fbd25880-0a00-47be-a838-d667ddb22fd5",
   "metadata": {},
   "outputs": [],
   "source": [
    "evaluator = MulticlassClassificationEvaluator(labelCol=\"label\", predictionCol=\"prediction\", metricName=\"accuracy\")"
   ]
  },
  {
   "cell_type": "code",
   "execution_count": 49,
   "id": "a86d4c97-c01b-46ff-bf14-25f713eb9b28",
   "metadata": {},
   "outputs": [],
   "source": [
    "nbaccuracy = evaluator.evaluate(predictions_df)"
   ]
  },
  {
   "cell_type": "code",
   "execution_count": 50,
   "id": "d362baeb-8046-4b98-90a2-d0a5daed4f59",
   "metadata": {},
   "outputs": [
    {
     "data": {
      "text/plain": [
       "0.9807692307692307"
      ]
     },
     "execution_count": 50,
     "metadata": {},
     "output_type": "execute_result"
    }
   ],
   "source": [
    "nbaccuracy"
   ]
  }
 ],
 "metadata": {
  "kernelspec": {
   "display_name": "Python 3 (ipykernel)",
   "language": "python",
   "name": "python3"
  },
  "language_info": {
   "codemirror_mode": {
    "name": "ipython",
    "version": 3
   },
   "file_extension": ".py",
   "mimetype": "text/x-python",
   "name": "python",
   "nbconvert_exporter": "python",
   "pygments_lexer": "ipython3",
   "version": "3.10.13"
  }
 },
 "nbformat": 4,
 "nbformat_minor": 5
}
