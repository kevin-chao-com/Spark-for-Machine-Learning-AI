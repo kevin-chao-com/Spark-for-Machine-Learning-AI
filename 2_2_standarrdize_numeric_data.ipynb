{
 "cells": [
  {
   "cell_type": "markdown",
   "id": "a9b0b0fd-e613-40e8-81aa-abe2575dc9ba",
   "metadata": {},
   "source": [
    "**Lesson exercise notebook for Spark-for-Machine-Learning-AI Course**\n",
    "* Created by Kevin Chao (kevinchao@gmail.com)\n",
    "* Latest updated on Feb 14, 2024"
   ]
  },
  {
   "cell_type": "markdown",
   "id": "853b80fd-48c7-4918-aa15-18e419605633",
   "metadata": {},
   "source": [
    "* Normalize the data to let it has a normal distribution shape (bell-like shape)\n",
    "  * Mean = 0\n",
    "  * STD = 1\n",
    "  * Ranges -1 to 1"
   ]
  },
  {
   "cell_type": "code",
   "execution_count": 2,
   "id": "8f03412c-0fb0-4535-8d12-fc8c325b89e3",
   "metadata": {},
   "outputs": [],
   "source": [
    "import findspark\n",
    "findspark.init()\n",
    "\n",
    "from pyspark.sql import SparkSession\n",
    "spark = SparkSession.builder.appName(\"YourAppName\").getOrCreate()\n",
    "\n",
    "from pyspark.ml.feature import StandardScaler\n",
    "from pyspark.ml.linalg import Vectors"
   ]
  },
  {
   "cell_type": "code",
   "execution_count": 5,
   "id": "576b1613-700a-4cc1-ad8f-419d5bbd381f",
   "metadata": {},
   "outputs": [],
   "source": [
    "features_df = spark.createDataFrame([\n",
    "    (1, Vectors.dense([10.0, 100000.00, 1.0]),),\n",
    "    (2, Vectors.dense([20.0, 300000.00, 2.0]),),\n",
    "    (3, Vectors.dense([30.0, 400000.00, 3.0]),) ],\n",
    "    [\"id\", \"features\"])"
   ]
  },
  {
   "cell_type": "code",
   "execution_count": 6,
   "id": "c0e0f954-e3fa-412b-92b5-8f6cb3f918f0",
   "metadata": {},
   "outputs": [
    {
     "data": {
      "text/plain": [
       "[Row(id=1, features=DenseVector([10.0, 100000.0, 1.0]))]"
      ]
     },
     "execution_count": 6,
     "metadata": {},
     "output_type": "execute_result"
    }
   ],
   "source": [
    "features_df.take(1)"
   ]
  },
  {
   "cell_type": "code",
   "execution_count": 9,
   "id": "4b2b1263-7c6a-46e3-892c-082134bee054",
   "metadata": {},
   "outputs": [],
   "source": [
    "# create a scaler object\n",
    "feature_stand_scaler = StandardScaler(inputCol=\"features\", outputCol=\"sfeatures\", withStd=True, withMean=True)"
   ]
  },
  {
   "cell_type": "code",
   "execution_count": 11,
   "id": "b00e1a81-2886-4b0d-a96c-0f8d55aa82ec",
   "metadata": {},
   "outputs": [],
   "source": [
    "stand_smodel = feature_stand_scaler.fit(features_df)"
   ]
  },
  {
   "cell_type": "code",
   "execution_count": 12,
   "id": "927c08ca-6bf5-4a22-a357-8cbc3a1bda9c",
   "metadata": {},
   "outputs": [],
   "source": [
    "stand_sfeatures_df = stand_smodel.transform(features_df)"
   ]
  },
  {
   "cell_type": "code",
   "execution_count": 13,
   "id": "39236901-7be9-4573-8beb-f05644011b57",
   "metadata": {},
   "outputs": [
    {
     "data": {
      "text/plain": [
       "[Row(id=1, features=DenseVector([10.0, 100000.0, 1.0]), sfeatures=DenseVector([-1.0, -1.0911, -1.0]))]"
      ]
     },
     "execution_count": 13,
     "metadata": {},
     "output_type": "execute_result"
    }
   ],
   "source": [
    "stand_sfeatures_df.take(1)"
   ]
  },
  {
   "cell_type": "code",
   "execution_count": 14,
   "id": "c1e56be3-b63e-42d8-bbff-1b913f03ab3e",
   "metadata": {},
   "outputs": [
    {
     "name": "stdout",
     "output_type": "stream",
     "text": [
      "+---+-------------------+--------------------+\n",
      "| id|           features|           sfeatures|\n",
      "+---+-------------------+--------------------+\n",
      "|  1|[10.0,100000.0,1.0]|[-1.0,-1.09108945...|\n",
      "|  2|[20.0,300000.0,2.0]|[0.0,0.2182178902...|\n",
      "|  3|[30.0,400000.0,3.0]|[1.0,0.8728715609...|\n",
      "+---+-------------------+--------------------+\n",
      "\n"
     ]
    }
   ],
   "source": [
    "stand_sfeatures_df.show()"
   ]
  }
 ],
 "metadata": {
  "kernelspec": {
   "display_name": "Python 3 (ipykernel)",
   "language": "python",
   "name": "python3"
  },
  "language_info": {
   "codemirror_mode": {
    "name": "ipython",
    "version": 3
   },
   "file_extension": ".py",
   "mimetype": "text/x-python",
   "name": "python",
   "nbconvert_exporter": "python",
   "pygments_lexer": "ipython3",
   "version": "3.10.13"
  }
 },
 "nbformat": 4,
 "nbformat_minor": 5
}
