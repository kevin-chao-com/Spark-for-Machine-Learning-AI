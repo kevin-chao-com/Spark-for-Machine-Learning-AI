{
 "cells": [
  {
   "cell_type": "code",
   "execution_count": 15,
   "id": "213e31d2-8f6c-46c2-874e-1310dca1ee0e",
   "metadata": {},
   "outputs": [],
   "source": [
    "import findspark\n",
    "findspark.init()\n",
    "\n",
    "from pyspark.sql import SparkSession\n",
    "spark = SparkSession.builder.appName(\"YourAppName\").getOrCreate()\n",
    "\n",
    "from pyspark.ml.classification import MultilayerPerceptronClassifier\n",
    "from pyspark.ml.evaluation import MulticlassClassificationEvaluator"
   ]
  },
  {
   "cell_type": "code",
   "execution_count": 3,
   "id": "73de43b6-7914-43c6-b9f2-a0480c9cef4d",
   "metadata": {},
   "outputs": [],
   "source": [
    "# Re-create iviris_df\n",
    "from pyspark.sql.functions import *\n",
    "from pyspark.ml.feature import VectorAssembler\n",
    "from pyspark.ml.feature import StringIndexer\n",
    "\n",
    "iris_df =spark.read.csv(\"Exercise_Files/iris.txt\", inferSchema=True)\n",
    "\n",
    "iris_df = iris_df.select(\n",
    "    col(\"_c0\").alias(\"sepal_length\"),\n",
    "    col(\"_c1\").alias(\"sepal_width\"),\n",
    "    col(\"_c2\").alias(\"petal_length\"),\n",
    "    col(\"_c3\").alias(\"petal_width\"),\n",
    "    col(\"_c4\").alias(\"species\")\n",
    "    )\n",
    "\n",
    "vectorAssembler = VectorAssembler(inputCols=[\"sepal_length\", \"sepal_width\", \"petal_length\", \"petal_width\"], outputCol=\"features\")\n",
    "viris_df = vectorAssembler.transform(iris_df)\n",
    "indexer = StringIndexer(inputCol=\"species\", outputCol=\"label\")\n",
    "iviris_df = indexer.fit(viris_df).transform(viris_df)"
   ]
  },
  {
   "cell_type": "code",
   "execution_count": 5,
   "id": "454475aa-9faa-4ba0-adf9-870d4a776fb4",
   "metadata": {},
   "outputs": [
    {
     "data": {
      "text/plain": [
       "[Row(sepal_length=5.1, sepal_width=3.5, petal_length=1.4, petal_width=0.2, species='Iris-setosa', features=DenseVector([5.1, 3.5, 1.4, 0.2]), label=0.0)]"
      ]
     },
     "execution_count": 5,
     "metadata": {},
     "output_type": "execute_result"
    }
   ],
   "source": [
    "iviris_df.take(1)"
   ]
  },
  {
   "cell_type": "code",
   "execution_count": 9,
   "id": "003c541a-d72d-4a06-b136-1e486c323605",
   "metadata": {},
   "outputs": [
    {
     "name": "stdout",
     "output_type": "stream",
     "text": [
      "150\n",
      "98\n",
      "52\n"
     ]
    }
   ],
   "source": [
    "splits = iviris_df.randomSplit([0.6, 0.4], 1)  # Split to two groups: 60% and 40%; seed = 1\n",
    "train_df = splits[0]\n",
    "test_df = splits[1]\n",
    "\n",
    "print(iviris_df.count())\n",
    "print(train_df.count())\n",
    "print(test_df.count())"
   ]
  },
  {
   "cell_type": "code",
   "execution_count": 11,
   "id": "8fe036f8-c060-4d10-a5a9-2ca309191dc1",
   "metadata": {},
   "outputs": [],
   "source": [
    "layers = [4, 5, 5, 3]  # 1st layer: 4 neurons; First layer has the same number of nodes as inputs, which is 4 measures;\n",
    "                       # Middle two layerss have 5 neurons\n",
    "                       # Output layer (last layer) has 3 neurons: we have 3 types of outputs"
   ]
  },
  {
   "cell_type": "code",
   "execution_count": 12,
   "id": "b63959ac-af08-4a85-9235-6ba3a4235614",
   "metadata": {},
   "outputs": [],
   "source": [
    "mlp = MultilayerPerceptronClassifier(layers=layers, seed=1)"
   ]
  },
  {
   "cell_type": "code",
   "execution_count": 13,
   "id": "be90b2c5-ef9e-4bf7-8887-8e7aeb753459",
   "metadata": {},
   "outputs": [
    {
     "name": "stderr",
     "output_type": "stream",
     "text": [
      "24/02/11 23:40:24 WARN InstanceBuilder: Failed to load implementation from:dev.ludovic.netlib.blas.JNIBLAS\n",
      "24/02/11 23:40:24 WARN InstanceBuilder: Failed to load implementation from:dev.ludovic.netlib.blas.VectorBLAS\n"
     ]
    }
   ],
   "source": [
    "mlp_model = mlp.fit(train_df)"
   ]
  },
  {
   "cell_type": "code",
   "execution_count": 14,
   "id": "00d330ea-0760-4b29-a89e-81043a9294f6",
   "metadata": {},
   "outputs": [],
   "source": [
    "mlp_predictions = mlp_model.transform(test_df)"
   ]
  },
  {
   "cell_type": "code",
   "execution_count": 16,
   "id": "bf583e43-15a7-4890-8670-03ba53a377c0",
   "metadata": {},
   "outputs": [],
   "source": [
    "mlp_evaluator = MulticlassClassificationEvaluator(metricName=\"accuracy\")"
   ]
  },
  {
   "cell_type": "code",
   "execution_count": 17,
   "id": "99ae2912-63d6-45c9-a8d5-536631b25527",
   "metadata": {},
   "outputs": [],
   "source": [
    "mlp_accuracy = mlp_evaluator.evaluate(mlp_predictions)"
   ]
  },
  {
   "cell_type": "code",
   "execution_count": 19,
   "id": "5b607e0e-bd8b-4e17-9849-689f9366f666",
   "metadata": {},
   "outputs": [
    {
     "data": {
      "text/plain": [
       "0.6923076923076923"
      ]
     },
     "execution_count": 19,
     "metadata": {},
     "output_type": "execute_result"
    }
   ],
   "source": [
    "mlp_accuracy"
   ]
  }
 ],
 "metadata": {
  "kernelspec": {
   "display_name": "Python 3 (ipykernel)",
   "language": "python",
   "name": "python3"
  },
  "language_info": {
   "codemirror_mode": {
    "name": "ipython",
    "version": 3
   },
   "file_extension": ".py",
   "mimetype": "text/x-python",
   "name": "python",
   "nbconvert_exporter": "python",
   "pygments_lexer": "ipython3",
   "version": "3.10.13"
  }
 },
 "nbformat": 4,
 "nbformat_minor": 5
}
