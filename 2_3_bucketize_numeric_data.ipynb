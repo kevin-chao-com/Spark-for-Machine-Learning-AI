{
 "cells": [
  {
   "cell_type": "code",
   "execution_count": 3,
   "id": "92baea3c-c365-4d1f-ae53-5b3500c1f9b0",
   "metadata": {},
   "outputs": [],
   "source": [
    "import findspark\n",
    "findspark.init()\n",
    "\n",
    "from pyspark.sql import SparkSession\n",
    "spark = SparkSession.builder.appName(\"YourAppName\").getOrCreate()\n",
    "\n",
    "from pyspark.ml.feature import Bucketizer  # Group data based on the boundaries"
   ]
  },
  {
   "cell_type": "code",
   "execution_count": 5,
   "id": "c81310c9-5e3e-4411-b1f8-211e4d00f240",
   "metadata": {},
   "outputs": [],
   "source": [
    "# Define data splitting ranges\n",
    "splits = [-float(\"inf\"), -10.0, 0.0, 10.0, float(\"inf\")]  # inf: infinite"
   ]
  },
  {
   "cell_type": "code",
   "execution_count": 6,
   "id": "614f0a32-6bd7-4634-bd32-4a083124bd6b",
   "metadata": {},
   "outputs": [],
   "source": [
    "b_data = [(-800.0,),(-10.5,),(0.0,),(8.2,),(90.1,)]\n",
    "b_df = spark.createDataFrame(b_data, [\"features\"])"
   ]
  },
  {
   "cell_type": "code",
   "execution_count": 8,
   "id": "138654a7-1d98-44cf-b318-5f27d40efb50",
   "metadata": {},
   "outputs": [
    {
     "name": "stdout",
     "output_type": "stream",
     "text": [
      "+--------+\n",
      "|features|\n",
      "+--------+\n",
      "|  -800.0|\n",
      "|   -10.5|\n",
      "|     0.0|\n",
      "|     8.2|\n",
      "|    90.1|\n",
      "+--------+\n",
      "\n"
     ]
    }
   ],
   "source": [
    "b_df.show()"
   ]
  },
  {
   "cell_type": "code",
   "execution_count": 9,
   "id": "bdcf1e1c-5210-4152-a01d-a27bda8fa548",
   "metadata": {},
   "outputs": [],
   "source": [
    "bucketizer = Bucketizer(splits=splits, inputCol=\"features\", outputCol=\"bfeatures\")"
   ]
  },
  {
   "cell_type": "code",
   "execution_count": 11,
   "id": "ea4afd49-ad22-4663-8d52-50e29d8be818",
   "metadata": {},
   "outputs": [],
   "source": [
    "bucketed_df = bucketizer.transform(b_df)  # no needed to run fit"
   ]
  },
  {
   "cell_type": "code",
   "execution_count": 12,
   "id": "f660910a-c33a-4319-beb7-2022bc3d769d",
   "metadata": {},
   "outputs": [
    {
     "name": "stdout",
     "output_type": "stream",
     "text": [
      "+--------+---------+\n",
      "|features|bfeatures|\n",
      "+--------+---------+\n",
      "|  -800.0|      0.0|\n",
      "|   -10.5|      0.0|\n",
      "|     0.0|      2.0|\n",
      "|     8.2|      2.0|\n",
      "|    90.1|      3.0|\n",
      "+--------+---------+\n",
      "\n"
     ]
    }
   ],
   "source": [
    "bucketed_df.show()"
   ]
  }
 ],
 "metadata": {
  "kernelspec": {
   "display_name": "Python 3 (ipykernel)",
   "language": "python",
   "name": "python3"
  },
  "language_info": {
   "codemirror_mode": {
    "name": "ipython",
    "version": 3
   },
   "file_extension": ".py",
   "mimetype": "text/x-python",
   "name": "python",
   "nbconvert_exporter": "python",
   "pygments_lexer": "ipython3",
   "version": "3.10.13"
  }
 },
 "nbformat": 4,
 "nbformat_minor": 5
}
