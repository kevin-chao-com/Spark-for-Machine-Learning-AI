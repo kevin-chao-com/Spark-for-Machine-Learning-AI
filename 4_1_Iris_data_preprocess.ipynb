{
 "cells": [
  {
   "cell_type": "markdown",
   "id": "5d7f1c14-7c5b-4ef7-a6c7-d56776899d42",
   "metadata": {},
   "source": [
    "**Lesson exercise notebook for Spark-for-Machine-Learning-AI Course**\n",
    "* Created by Kevin Chao (kevinchao@gmail.com)\n",
    "* Latest updated on Feb 14, 2024"
   ]
  },
  {
   "cell_type": "code",
   "execution_count": 2,
   "id": "a1d1c80d-bc01-473f-aea2-cabf4d9926f4",
   "metadata": {},
   "outputs": [],
   "source": [
    "import findspark\n",
    "findspark.init()\n",
    "\n",
    "from pyspark.sql import SparkSession\n",
    "spark = SparkSession.builder.appName(\"YourAppName\").getOrCreate()\n",
    "\n",
    "from pyspark.sql.functions import *\n",
    "from pyspark.ml.feature import VectorAssembler\n",
    "from pyspark.ml.feature import StringIndexer"
   ]
  },
  {
   "cell_type": "code",
   "execution_count": 3,
   "id": "ed8c500c-0464-4bee-bd5d-c9c217eb0f19",
   "metadata": {},
   "outputs": [],
   "source": [
    "iris_df =spark.read.csv(\"Exercise_Files/iris.txt\", inferSchema=True)"
   ]
  },
  {
   "cell_type": "code",
   "execution_count": 4,
   "id": "edbbeedb-d2b8-4552-876b-639f444b501e",
   "metadata": {},
   "outputs": [
    {
     "data": {
      "text/plain": [
       "[Row(_c0=5.1, _c1=3.5, _c2=1.4, _c3=0.2, _c4='Iris-setosa')]"
      ]
     },
     "execution_count": 4,
     "metadata": {},
     "output_type": "execute_result"
    }
   ],
   "source": [
    "iris_df.take(1)"
   ]
  },
  {
   "cell_type": "code",
   "execution_count": 5,
   "id": "9d10f04f-e48b-4dae-8f63-d5d4c53d55f2",
   "metadata": {},
   "outputs": [
    {
     "name": "stdout",
     "output_type": "stream",
     "text": [
      "+---+---+---+---+-----------+\n",
      "|_c0|_c1|_c2|_c3|        _c4|\n",
      "+---+---+---+---+-----------+\n",
      "|5.1|3.5|1.4|0.2|Iris-setosa|\n",
      "|4.9|3.0|1.4|0.2|Iris-setosa|\n",
      "|4.7|3.2|1.3|0.2|Iris-setosa|\n",
      "|4.6|3.1|1.5|0.2|Iris-setosa|\n",
      "|5.0|3.6|1.4|0.2|Iris-setosa|\n",
      "+---+---+---+---+-----------+\n",
      "only showing top 5 rows\n",
      "\n"
     ]
    }
   ],
   "source": [
    "iris_df.show(5)"
   ]
  },
  {
   "cell_type": "code",
   "execution_count": 7,
   "id": "6edf685b-4156-414a-893b-d4417f46868f",
   "metadata": {},
   "outputs": [],
   "source": [
    "iris_df = iris_df.select(\n",
    "    col(\"_c0\").alias(\"sepal_length\"),\n",
    "    col(\"_c1\").alias(\"sepal_width\"),\n",
    "    col(\"_c2\").alias(\"petal_length\"),\n",
    "    col(\"_c3\").alias(\"petal_width\"),\n",
    "    col(\"_c4\").alias(\"species\")\n",
    "    )"
   ]
  },
  {
   "cell_type": "code",
   "execution_count": 10,
   "id": "0fcae91f-7bf6-4000-9b94-55bc83be97c1",
   "metadata": {},
   "outputs": [
    {
     "data": {
      "text/plain": [
       "[Row(sepal_length=5.1, sepal_width=3.5, petal_length=1.4, petal_width=0.2, species='Iris-setosa')]"
      ]
     },
     "execution_count": 10,
     "metadata": {},
     "output_type": "execute_result"
    }
   ],
   "source": [
    "iris_df.take(1)"
   ]
  },
  {
   "cell_type": "code",
   "execution_count": 9,
   "id": "08a9902e-c054-4582-95bd-3e28442d736e",
   "metadata": {},
   "outputs": [
    {
     "name": "stdout",
     "output_type": "stream",
     "text": [
      "+------------+-----------+------------+-----------+-----------+\n",
      "|sepal_length|sepal_width|petal_length|petal_width|    species|\n",
      "+------------+-----------+------------+-----------+-----------+\n",
      "|         5.1|        3.5|         1.4|        0.2|Iris-setosa|\n",
      "|         4.9|        3.0|         1.4|        0.2|Iris-setosa|\n",
      "|         4.7|        3.2|         1.3|        0.2|Iris-setosa|\n",
      "|         4.6|        3.1|         1.5|        0.2|Iris-setosa|\n",
      "|         5.0|        3.6|         1.4|        0.2|Iris-setosa|\n",
      "+------------+-----------+------------+-----------+-----------+\n",
      "only showing top 5 rows\n",
      "\n"
     ]
    }
   ],
   "source": [
    "iris_df.show(5)"
   ]
  },
  {
   "cell_type": "code",
   "execution_count": 12,
   "id": "7d6ddcee-cf06-4573-b5d9-d5c151e4684d",
   "metadata": {},
   "outputs": [],
   "source": [
    "vectorAssembler = VectorAssembler(inputCols=[\"sepal_length\", \"sepal_width\", \"petal_length\", \"petal_width\"], outputCol=\"features\")"
   ]
  },
  {
   "cell_type": "code",
   "execution_count": 13,
   "id": "48696080-c099-4676-aece-42a27a9e4167",
   "metadata": {},
   "outputs": [],
   "source": [
    "viris_df = vectorAssembler.transform(iris_df)"
   ]
  },
  {
   "cell_type": "code",
   "execution_count": 14,
   "id": "ffed61b0-bd62-480b-a183-b55b1990e64a",
   "metadata": {},
   "outputs": [
    {
     "data": {
      "text/plain": [
       "[Row(sepal_length=5.1, sepal_width=3.5, petal_length=1.4, petal_width=0.2, species='Iris-setosa', features=DenseVector([5.1, 3.5, 1.4, 0.2]))]"
      ]
     },
     "execution_count": 14,
     "metadata": {},
     "output_type": "execute_result"
    }
   ],
   "source": [
    "viris_df.take(1)"
   ]
  },
  {
   "cell_type": "code",
   "execution_count": 16,
   "id": "9c860894-4a96-47c2-a799-b3aceb02728b",
   "metadata": {},
   "outputs": [],
   "source": [
    "indexer = StringIndexer(inputCol=\"species\", outputCol=\"label\")"
   ]
  },
  {
   "cell_type": "code",
   "execution_count": 17,
   "id": "baf7648d-ac20-4c42-8229-0d603ed3eaa8",
   "metadata": {},
   "outputs": [],
   "source": [
    "iviris_df = indexer.fit(viris_df).transform(viris_df)"
   ]
  },
  {
   "cell_type": "code",
   "execution_count": 45,
   "id": "56995ad5-d2a3-474f-a260-dc7074934c1c",
   "metadata": {},
   "outputs": [
    {
     "name": "stdout",
     "output_type": "stream",
     "text": [
      "+------------+-----------+------------+-----------+-----------+-----------------+-----+\n",
      "|sepal_length|sepal_width|petal_length|petal_width|    species|         features|label|\n",
      "+------------+-----------+------------+-----------+-----------+-----------------+-----+\n",
      "|         5.1|        3.5|         1.4|        0.2|Iris-setosa|[5.1,3.5,1.4,0.2]|  0.0|\n",
      "+------------+-----------+------------+-----------+-----------+-----------------+-----+\n",
      "only showing top 1 row\n",
      "\n"
     ]
    }
   ],
   "source": [
    "iviris_df.show(1)"
   ]
  }
 ],
 "metadata": {
  "kernelspec": {
   "display_name": "Python 3 (ipykernel)",
   "language": "python",
   "name": "python3"
  },
  "language_info": {
   "codemirror_mode": {
    "name": "ipython",
    "version": 3
   },
   "file_extension": ".py",
   "mimetype": "text/x-python",
   "name": "python",
   "nbconvert_exporter": "python",
   "pygments_lexer": "ipython3",
   "version": "3.10.13"
  }
 },
 "nbformat": 4,
 "nbformat_minor": 5
}
