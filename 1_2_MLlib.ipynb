{
 "cells": [
  {
   "cell_type": "markdown",
   "id": "2c87f98e-58b9-423a-810b-307dab82e0d3",
   "metadata": {},
   "source": [
    "* Components of Spark MKlib\n",
    "    * (1) Algorithms:\n",
    "      * Classification\n",
    "      * Regression\n",
    "      * Clustering\n",
    "      * Topic modeling\n",
    "    * (2) Workflows:\n",
    "      * Feature transformations\n",
    "      * Pipelines\n",
    "      * Evaulations\n",
    "      * Hyperparameter tuning\n",
    "    * (3) Utilitis:\n",
    "      * Distributed math libraries\n",
    "      * Statistics functions "
   ]
  },
  {
   "cell_type": "code",
   "execution_count": null,
   "id": "764062e3-3420-4917-8bf3-260ff77da713",
   "metadata": {},
   "outputs": [],
   "source": []
  }
 ],
 "metadata": {
  "kernelspec": {
   "display_name": "Python 3 (ipykernel)",
   "language": "python",
   "name": "python3"
  },
  "language_info": {
   "codemirror_mode": {
    "name": "ipython",
    "version": 3
   },
   "file_extension": ".py",
   "mimetype": "text/x-python",
   "name": "python",
   "nbconvert_exporter": "python",
   "pygments_lexer": "ipython3",
   "version": "3.10.13"
  }
 },
 "nbformat": 4,
 "nbformat_minor": 5
}
