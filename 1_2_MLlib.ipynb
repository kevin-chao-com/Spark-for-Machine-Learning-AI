{
 "cells": [
  {
   "cell_type": "markdown",
   "id": "0d92ba18-62fc-4f51-b72b-611f04af86be",
   "metadata": {},
   "source": [
    "**Lesson exercise notebook for Spark-for-Machine-Learning-AI Course**\n",
    "* Created by Kevin Chao (kevinchao@gmail.com)\n",
    "* Latest updated on Feb 14, 2024"
   ]
  },
  {
   "cell_type": "markdown",
   "id": "2c87f98e-58b9-423a-810b-307dab82e0d3",
   "metadata": {},
   "source": [
    "* Components of Spark MKlib\n",
    "    * (1) Algorithms:\n",
    "      * Classification\n",
    "      * Regression\n",
    "      * Clustering\n",
    "      * Topic modeling\n",
    "    * (2) Workflows:\n",
    "      * Feature transformations\n",
    "      * Pipelines\n",
    "      * Evaulations\n",
    "      * Hyperparameter tuning\n",
    "    * (3) Utilitis:\n",
    "      * Distributed math libraries\n",
    "      * Statistics functions "
   ]
  }
 ],
 "metadata": {
  "kernelspec": {
   "display_name": "Python 3 (ipykernel)",
   "language": "python",
   "name": "python3"
  },
  "language_info": {
   "codemirror_mode": {
    "name": "ipython",
    "version": 3
   },
   "file_extension": ".py",
   "mimetype": "text/x-python",
   "name": "python",
   "nbconvert_exporter": "python",
   "pygments_lexer": "ipython3",
   "version": "3.10.13"
  }
 },
 "nbformat": 4,
 "nbformat_minor": 5
}
